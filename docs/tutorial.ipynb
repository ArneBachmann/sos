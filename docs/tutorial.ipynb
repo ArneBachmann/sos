{
 "cells": [
  {
   "cell_type": "markdown",
   "metadata": {},
   "source": [
    "# SOS Tutorial #\n",
    "\n",
    "The purpose of this tutorial is to give a quick start into working with SOS, highlight some of its features, and explain the rationale behind some of its differences and design decisions compared to other version control systems (VCS).\n",
    "\n",
    "## Getting started ##\n",
    "First, you need to install SOS and make it available in your system path. This is best done using the `pip` (or `pip3`) command of your Python distribution. If you don't have Python installed, do so using your system's package manager or by downloading and installing it from `https://www.python.org/downloads/` or, e.g., `https://conda.io/miniconda.html`.\n",
    "\n",
    "Installing SOS through pip works like the following code, but take into account\n",
    "- the `!` is not part of what you would write on the command line;\n",
    "- the installation might require admin rights;\n",
    "- reload this notebook after successful installation):"
   ]
  },
  {
   "cell_type": "code",
   "execution_count": 1,
   "metadata": {
    "scrolled": true
   },
   "outputs": [
    {
     "name": "stdout",
     "output_type": "stream",
     "text": [
      "Collecting sos-vcs\n",
      "  Using cached https://files.pythonhosted.org/packages/a2/46/fd8d902e8001f4c7282b8822aa2beecb1971f11ca0f6f4862b74162451fd/sos-vcs-2018.1624.2412.tar.gz\n",
      "    Complete output from command python setup.py egg_info:\n",
      "    Traceback (most recent call last):\n",
      "      File \"<string>\", line 1, in <module>\n",
      "      File \"/tmp/pip-install-6mANOM/sos-vcs/setup.py\", line 76, in <module>\n",
      "        import sos.version\n",
      "      File \"sos/__init__.py\", line 8, in <module>\n",
      "        from sos import *\n",
      "      File \"sos/sos.py\", line 62\n",
      "        def loadConfig() -> 'configr.Configr':  # Accessor when using defaults only  # line 34\n",
      "                         ^\n",
      "    SyntaxError: invalid syntax\n",
      "    \n",
      "    ----------------------------------------\n",
      "\u001b[31mCommand \"python setup.py egg_info\" failed with error code 1 in /tmp/pip-install-6mANOM/sos-vcs/\u001b[0m\n",
      "\u001b[33mYou are using pip version 18.1, however version 19.0.1 is available.\n",
      "You should consider upgrading via the 'pip install --upgrade pip' command.\u001b[0m\n"
     ]
    }
   ],
   "source": [
    "!pip install sos-vcs"
   ]
  },
  {
   "cell_type": "markdown",
   "metadata": {},
   "source": [
    "This will install SOS and all its required software packages into your global Python distribution. If you want to test SOS first in a virtual environment, make sure your use a virtual enviroment via [pipenv](https://docs.pipenv.org) or have a `conda`-supporting Python distribution with an activated virtual Python environment and run the `pip` command from there.\n",
    "\n",
    "Once installed, confirm that everything is fine via"
   ]
  },
  {
   "cell_type": "code",
   "execution_count": 40,
   "metadata": {},
   "outputs": [
    {
     "name": "stdout",
     "output_type": "stream",
     "text": [
      "          d8  ad88888ba    ,ad8888ba,    ad88888ba           d8     \r\n",
      "        ,8P' d8\"     \"8b  d8\"'    `\"8b  d8\"     \"8b        ,8P'     \r\n",
      "       d8\"   Y8,         d8'        `8b Y8,               d8\"       \r\n",
      "     ,8P'    `Y8aaaaa,   88          88 `Y8aaaaa,       ,8P'        \r\n",
      "    d8\"        `\"\"\"\"\"8b, 88          88   `\"\"\"\"\"8b,    d8\"          \r\n",
      "  ,8P'               `8b Y8,        ,8P         `8b  ,8P'           \r\n",
      " d8\"         Y8a     a8P  Y8a.    .a8P  Y8a     a8P d8\"             \r\n",
      "8P'           \"Y88888P\"    `\"Y8888Y\"'    \"Y88888P\" 8P'              \r\n",
      "\r\n",
      "/SOS/ Subversion Offline Solution V1.6.9 (C) Arne Bachmann (PyPI: 2019.1210.2731-v1.6.0-88-gaff3ab9)\r\n",
      "\u001b[0m"
     ]
    }
   ],
   "source": [
    "try: pwd = os.getcwd()  # this code is only required in case you run this notebook several times\n",
    "except: os.chdir(\"..\")\n",
    "\n",
    "!sos version"
   ]
  },
  {
   "cell_type": "markdown",
   "metadata": {},
   "source": [
    "## First steps ##\n",
    "Say you have a project you work on, but you are either **a)** using a means of transport without (affordable) internet access, **b)** experiencing a power or network outage, **c)** in need of VCS functionality for something not (yet) part of a repository or checkout.\n",
    "\n",
    "SOS will support you in any case.\n",
    "\n",
    "For the sake of this tutorial, we assume you are working in a local Git checkout (could also be a SVN checkout or any other folder you'd like to experiment on).\n",
    "\n",
    "As I don't know any public SVN platforms to checkout from for this tutorial, **download** and **unzip** or **clone** a random project from Github instead, e.g., [this project's archive](https://github.com/ArneBachmann/realestate-sunamount/archive/master.zip), which is a little project of mine written in the Coconut programming language.\n",
    "\n",
    "Let's start!\n",
    "\n",
    "Imagine you are taking a train without network connectivity for some reason and want to start working on the (just downloaded) RESE project to improve some code parts. In the shell type this:"
   ]
  },
  {
   "cell_type": "code",
   "execution_count": 41,
   "metadata": {},
   "outputs": [
    {
     "name": "stdout",
     "output_type": "stream",
     "text": [
      "Cloning into 'realestate-sunamount'...\n",
      "remote: Enumerating objects: 119, done.\u001b[K\n",
      "remote: Total 119 (delta 0), reused 0 (delta 0), pack-reused 119\u001b[K\n",
      "Receiving objects: 100% (119/119), 56.25 KiB | 606.00 KiB/s, done.\n",
      "Resolving deltas: 100% (72/72), done.\n",
      "          d8  ad88888ba    ,ad8888ba,    ad88888ba           d8     \n",
      "        ,8P' d8\"     \"8b  d8\"'    `\"8b  d8\"     \"8b        ,8P'     \n",
      "       d8\"   Y8,         d8'        `8b Y8,               d8\"       \n",
      "     ,8P'    `Y8aaaaa,   88          88 `Y8aaaaa,       ,8P'        \n",
      "    d8\"        `\"\"\"\"\"8b, 88          88   `\"\"\"\"\"8b,    d8\"          \n",
      "  ,8P'               `8b Y8,        ,8P         `8b  ,8P'           \n",
      " d8\"         Y8a     a8P  Y8a.    .a8P  Y8a     a8P d8\"             \n",
      "8P'           \"Y88888P\"    `\"Y8888Y\"'    \"Y88888P\" 8P'              \n",
      "\u001b[32mADD ./.gitignore  (1157 bytes)                                            \n",
      "ADD ./LICENSE  (16.33 KiB)\n",
      "ADD ./README.md  (1.34 KiB)\n",
      "ADD ./__coconut__.py  (26.10 KiB)\n",
      "ADD ./example.coco  (3.54 KiB)\n",
      "ADD ./example.py  (4.58 KiB)\n",
      "ADD ./make.bat  (332 bytes)\n",
      "ADD ./make.sh  (364 bytes)\n",
      "ADD ./setup.py  (2.28 KiB)\n",
      "ADD ./sunamount.md  (12.18 KiB)\n",
      "ADD rese/__coconut__.py  (26.10 KiB)\n",
      "ADD rese/__init__.py  (0 bytes)\n",
      "ADD rese/sunamount.coco  (15.63 KiB)\n",
      "ADD rese/sunamount.py  (21.95 KiB)\u001b[39m\n",
      "Processing speed was 22.45 MiB/s.\n",
      "\u001b[37m/SOS/ \u001b[39mOffline repository prepared. Use 'sos online' to finish offline work\n",
      "[\u001b[32mEXIT\u001b[39m]\n",
      "\u001b[0m\u001b[0m"
     ]
    }
   ],
   "source": [
    "!git clone https://github.com/ArneBachmann/realestate-sunamount.git\n",
    "!cd realestate-sunamount ; sos offline\n",
    "!sos config set useColorOutput yes --quiet"
   ]
  },
  {
   "cell_type": "markdown",
   "metadata": {},
   "source": [
    "By \"going offline\" inside the repository checkout (or any other folder), a metadata sub-folder `.sos` will be created that contains a baseline copy of your project and a record of all the changes you track.\n",
    "You can immediately start hacking away and not worry about changing anything beyond repair, as you can always revert your changes to where you started from when you went `sos offline` or did your last `sos commit`.\n",
    "\n",
    "You may also use the command line switches `--compress` and `--strict`:\n",
    "- `--compress` enables data compression inside the SOS internals, which is slower but uses less data on the file system,\n",
    "- `--strict` uses hashes on the entire file contents to detect changes instead of relying on size and timestamp only, which is slower but more accurate\n",
    "\n",
    "OK, let's start working. You open your editor and edit a source file inside the checked out folder `realestate-sunamount`, e.g. `make.bat` from:\n",
    "\n",
    "```Powershell\n",
    "@echo off\n",
    "echo Compiling\n",
    "...\n",
    "```\n",
    "\n",
    "to this:\n",
    "\n",
    "```Powershell\n",
    "@echo off\n",
    "echo Compiling...\n",
    "...\n",
    "```\n",
    "\n",
    "(note the added dots after *Compiling*), or run the next Python cell to do it:"
   ]
  },
  {
   "cell_type": "code",
   "execution_count": 42,
   "metadata": {},
   "outputs": [
    {
     "name": "stdout",
     "output_type": "stream",
     "text": [
      "Make.bat was updated.\n"
     ]
    }
   ],
   "source": [
    "import os\n",
    "os.chdir(\"realestate-sunamount\")\n",
    "with open(\"make.bat\", \"r\") as fd: data = fd.read().split(\"\\n\")\n",
    "data[0] += \"...\"  # add \"...\" after \"Compiling\"\n",
    "with open(\"make.bat\", \"w\") as fd: fd.write(\"\\n\".join(data))\n",
    "print(\"Make.bat was updated.\")"
   ]
  },
  {
   "cell_type": "markdown",
   "metadata": {},
   "source": [
    "Satisfied with your improvement, you want to commit your change(s) to the local offline SOS history to make a snapshot of your work that you can later refer to or revert to.\n",
    "\n",
    "But just before committing your change just yet, you'd like to see a summary of your changes to confirm that everything is in order:"
   ]
  },
  {
   "cell_type": "code",
   "execution_count": 43,
   "metadata": {},
   "outputs": [
    {
     "name": "stdout",
     "output_type": "stream",
     "text": [
      "\u001b[37m/SOS/ \u001b[39mOffline repository status\r\n",
      "Repository root:     /home/ash/Desktop/all/projects/sos/docs/realestate-sunamount\r\n",
      "Underlying VCS root: /home/ash/Desktop/all/projects/sos/docs/realestate-sunamount\r\n",
      "Underlying VCS type: git\r\n",
      "Installation path:   /home/ash/Desktop/all/projects/sos\r\n",
      "Current SOS version: 2019.1210.2731-v1.6.0-88-gaff3ab9\r\n",
      "At creation version: 2019.1210.2731-v1.6.0-88-gaff3ab9\r\n",
      "Metadata format:     2\r\n",
      "Content checking:    \u001b[34msize & timestamp\u001b[39m\r\n",
      "Data compression:    \u001b[34mdeactivated\u001b[39m\r\n",
      "Repository mode:     \u001b[32msimple\u001b[39m\r\n",
      "Number of branches:  1\r\n",
      "\r",
      "                                                                               \r",
      "\u001b[33m✖ File tree has changes\u001b[39m\r\n",
      "  * b0 'master' @2019-02-10 17:53:39 (\u001b[32min sync\u001b[39m) with 1 commits (median 14 each), using 0.13 MiB (+1.805% SOS overhead). Last comment: 'Offline repository created on 2019-02-10 17:53:39'\r\n",
      "[\u001b[32mEXIT\u001b[39m]\r\n",
      "\u001b[0m"
     ]
    }
   ],
   "source": [
    "!sos status"
   ]
  },
  {
   "cell_type": "markdown",
   "metadata": {},
   "source": [
    "or, if you prefer a less Git-like and more Fossil-like command:"
   ]
  },
  {
   "cell_type": "code",
   "execution_count": 44,
   "metadata": {},
   "outputs": [
    {
     "name": "stdout",
     "output_type": "stream",
     "text": [
      "\u001b[0m\u001b[33mMOD ./make.bat\u001b[39m\n",
      "[\u001b[32mEXIT\u001b[39m]\n",
      "\u001b[0m"
     ]
    }
   ],
   "source": [
    "!sos config set useChangesCommand yes --quiet\n",
    "!sos changes"
   ]
  },
  {
   "cell_type": "markdown",
   "metadata": {},
   "source": [
    "The `sos config` command defines a user-global SOS configuration setting (unless using `--local` which would apply to the current checkout only, in contrast to what Git does via `--global`).\n",
    "\n",
    "The `useChangesCommand` setting modifies the behavior of the `status` command to show the checkout stats instead of the repository status (which otherwise would be shown using `status --repo[sitory]`).\n",
    "\n",
    "Ok, so we know that `make.bat` has been modified as we wanted. Let's display the changes in more detail:"
   ]
  },
  {
   "cell_type": "code",
   "execution_count": 45,
   "metadata": {},
   "outputs": [
    {
     "name": "stdout",
     "output_type": "stream",
     "text": [
      "DIF ./make.bat  <LF>\n",
      "\u001b[35mold 0 |@echo off|\u001b[39m\n",
      "\u001b[36mnow 0 |@echo off...|\u001b[39m\n",
      "\n",
      "[\u001b[32mEXIT\u001b[39m]\n",
      "\u001b[0m"
     ]
    }
   ],
   "source": [
    "!sos diff"
   ]
  },
  {
   "cell_type": "markdown",
   "metadata": {},
   "source": [
    "which tells us exactly on what line what was changed from old to new.\n",
    "The pipe symbols mark the beginning and end of each displayed line, so you can also notice trailing whitespaces.\n",
    "\n",
    "It's now time to commit our change into the offline repository's history.\n",
    "SOS was designed with minimal barriers in mind, therefore you can simply do:"
   ]
  },
  {
   "cell_type": "code",
   "execution_count": 46,
   "metadata": {},
   "outputs": [
    {
     "name": "stdout",
     "output_type": "stream",
     "text": [
      "\u001b[33mMOD ./make.bat\u001b[39m\r\n",
      "Processing speed was 96.00 kiB/s.\r\n",
      "\u001b[37m/SOS/ \u001b[39mCreated new revision r01 (\u001b[32m+\u001b[39m00/\u001b[31m-\u001b[39m00/\u001b[33m±\u001b[39m01/\u001b[34m\u001b[1m⇌\u001b[0m00) summing 507 bytes in 1 files (33.93% SOS overhead)\r\n",
      "[\u001b[32mEXIT\u001b[39m]\r\n",
      "\u001b[0m"
     ]
    }
   ],
   "source": [
    "!sos commit"
   ]
  },
  {
   "cell_type": "markdown",
   "metadata": {},
   "source": [
    "or use the shorter command versions `sos ci` and `sos com`.\n",
    "\n",
    "This works similar to `git add --all && git commit -m \"..\"` or `svn ci -m \"..\"` as it mirrors all (not ignored) file tree changes into the repository.\n",
    "\n",
    "The output is a condensed summary of changes.\n",
    "It shows the created revision's number `01`, the commit message, the number of added, removed, modified and moved files, the number of bytes and files processed, and the percentage of metadata overhead occupied by SOS to manage the offline repository, which is usually less than one percent.\n",
    "\n",
    "You can also specify a commit message, and specify which files to commit or not exclude:"
   ]
  },
  {
   "cell_type": "code",
   "execution_count": 47,
   "metadata": {},
   "outputs": [
    {
     "name": "stdout",
     "output_type": "stream",
     "text": [
      "[\u001b[33mEXIT\u001b[39m Nothing to commit.]\r\n",
      "\u001b[0m"
     ]
    }
   ],
   "source": [
    "!sos commit \"First change\" --only \"*.bat\" --except \"*.cmd\""
   ]
  },
  {
   "cell_type": "markdown",
   "metadata": {},
   "source": [
    "To get an overview of the recent SOS commit history:"
   ]
  },
  {
   "cell_type": "code",
   "execution_count": 48,
   "metadata": {},
   "outputs": [
    {
     "name": "stdout",
     "output_type": "stream",
     "text": [
      "\u001b[37m/SOS/ \u001b[39mOffline commit history of branch 'master'\r\n",
      "    r0 @2019-02-10 17:53:39 (\u001b[32m+\u001b[39m14/\u001b[31m-\u001b[39m00/\u001b[33m±\u001b[39m00/\u001b[36mT\u001b[39m00) |Offline repository created on 2019-02-10 17:53:39|\u001b[35m\u001b[39m\r\n",
      "  ➙ r1 @2019-02-10 17:53:51 (\u001b[32m+\u001b[39m00/\u001b[31m-\u001b[39m00/\u001b[33m±\u001b[39m01/\u001b[36mT\u001b[39m01) ||\u001b[35m\u001b[39m\r\n",
      "[\u001b[32mEXIT\u001b[39m]\r\n",
      "\u001b[0m"
     ]
    }
   ],
   "source": [
    "!sos log"
   ]
  },
  {
   "cell_type": "markdown",
   "metadata": {},
   "source": [
    "Or even the extended `log` command, which also shows the files modifed in each commit:"
   ]
  },
  {
   "cell_type": "code",
   "execution_count": 49,
   "metadata": {},
   "outputs": [
    {
     "name": "stdout",
     "output_type": "stream",
     "text": [
      "\u001b[37m/SOS/ \u001b[39mOffline commit history of branch 'master'\r\n",
      "    r0 @2019-02-10 17:53:39 (\u001b[32m+\u001b[39m14/\u001b[31m-\u001b[39m00/\u001b[33m±\u001b[39m00/\u001b[36mT\u001b[39m00) |Offline repository created on 2019-02-10 17:53:39|\u001b[35m\u001b[39m\r\n",
      "\u001b[32mADD ./.gitignore  (-)\r\n",
      "ADD ./LICENSE  (-)\r\n",
      "ADD ./README.md  (-)\r\n",
      "ADD ./__coconut__.py  (-)\r\n",
      "ADD ./example.coco  (-)\r\n",
      "ADD ./example.py  (-)\r\n",
      "ADD ./make.bat  (-)\r\n",
      "ADD ./make.sh  (-)\r\n",
      "ADD ./setup.py  (-)\r\n",
      "ADD ./sunamount.md  (-)\r\n",
      "ADD rese/__coconut__.py  (-)\r\n",
      "ADD rese/__init__.py  (-)\r\n",
      "ADD rese/sunamount.coco  (-)\r\n",
      "ADD rese/sunamount.py  (-)\u001b[39m\r\n",
      "  ➙ r1 @2019-02-10 17:53:51 (\u001b[32m+\u001b[39m00/\u001b[31m-\u001b[39m00/\u001b[33m±\u001b[39m01/\u001b[36mT\u001b[39m01) ||\u001b[35m\u001b[39m\r\n",
      "\u001b[33mMOD ./make.bat\u001b[39m\r\n",
      "[\u001b[32mEXIT\u001b[39m]\r\n",
      "\u001b[0m"
     ]
    }
   ],
   "source": [
    "!sos log --changes"
   ]
  },
  {
   "cell_type": "markdown",
   "metadata": {},
   "source": [
    "You can work this way as long as you want and record regular snapshots of your work until you want to go back online.\n",
    "\n",
    "This is the main purpose of SOS: record your changes effortlessly over time while during offline periods to allow reverting in case of mistakes. SOS also allows you to switch between branches to test out different ideas and separate change sets.\n",
    "\n",
    "Once you regain online access you can try the `sos online` command:"
   ]
  },
  {
   "cell_type": "code",
   "execution_count": 50,
   "metadata": {},
   "outputs": [
    {
     "name": "stdout",
     "output_type": "stream",
     "text": [
      "[\u001b[33mEXIT\u001b[39m There are still unsynchronized (modified) branches.]\r\n",
      "Use 'sos log' to list them.\r\n",
      "Use 'sos commit' and 'sos switch' to commit out-of-sync branches to your VCS before leaving offline mode.\r\n",
      "Use 'sos online --force' to erase all aggregated offline revisions without further action.\r\n",
      "\u001b[0m"
     ]
    }
   ],
   "source": [
    "!sos online"
   ]
  },
  {
   "cell_type": "markdown",
   "metadata": {},
   "source": [
    "This means that SOS won't let you go back online (which simply removes the entire offline repository !), until you have secured all your offline work back into the underlying VCS (if any).\n",
    "\n",
    "You can therefore also check the status of the repository and all its branches to check if any offline changes are not yet considered after regaining connectivity:"
   ]
  },
  {
   "cell_type": "code",
   "execution_count": 51,
   "metadata": {},
   "outputs": [
    {
     "name": "stdout",
     "output_type": "stream",
     "text": [
      "\u001b[37m/SOS/ \u001b[39mOffline repository status\n",
      "Repository root:     /home/ash/Desktop/all/projects/sos/docs/realestate-sunamount\n",
      "Underlying VCS root: /home/ash/Desktop/all/projects/sos/docs/realestate-sunamount\n",
      "Underlying VCS type: git\n",
      "Installation path:   /home/ash/Desktop/all/projects/sos\n",
      "Current SOS version: 2019.1210.2731-v1.6.0-88-gaff3ab9\n",
      "At creation version: 2019.1210.2731-v1.6.0-88-gaff3ab9\n",
      "Metadata format:     2\n",
      "Content checking:    \u001b[34msize & timestamp\u001b[39m\n",
      "Data compression:    \u001b[34mdeactivated\u001b[39m\n",
      "Repository mode:     \u001b[32msimple\u001b[39m\n",
      "Number of branches:  1\n",
      "\u001b[32m✔ File tree is unchanged\u001b[39m                                             \n",
      "  * b0 'master' @2019-02-10 17:53:39 (\u001b[33mmodified\u001b[39m) with 2 commits (median 7 each), using 0.13 MiB (+1.994% SOS overhead)\n",
      "[\u001b[32mEXIT\u001b[39m]\n",
      "\u001b[0m"
     ]
    }
   ],
   "source": [
    "!sos status --repo"
   ]
  },
  {
   "cell_type": "markdown",
   "metadata": {},
   "source": [
    "Here you see (after some repository internals), that the only existing branch is marked as **modified**, which means it has been made changes to since you went offline and wasn't committed to the underlying VCS yet, i.e., using the `sos publish` command.\n",
    "\n",
    "Make sure you don't forget to secure your changes to the underlying VCS you went offline from before issuing `sos online` or `sos online --force` to remove the offline repository. You can even use SOS to issue the underlying `commit` commandt, using `sos commit --vcs -m \"Message\"` which calls the underlying VCS and clears the SOS dirty flag.\n",
    "## Branching ##\n",
    "\n",
    "This section explains how to rollback changes and how to work on different (feature) branches while being offline.\n",
    "\n",
    "Let's say we suddenly get the inspiration to work on another idea, but want to pick up work were we left.\n",
    "This is were branching comes into play:"
   ]
  },
  {
   "cell_type": "code",
   "execution_count": 52,
   "metadata": {},
   "outputs": [
    {
     "name": "stdout",
     "output_type": "stream",
     "text": [
      "\r",
      "                                                                               \r",
      "\u001b[32mADD ./.gitignore  (1157 bytes)\r\n",
      "ADD ./LICENSE  (16.33 KiB)\r\n",
      "ADD ./README.md  (1.34 KiB)\r\n",
      "ADD ./__coconut__.py  (26.10 KiB)\r\n",
      "ADD ./example.coco  (3.54 KiB)\r\n",
      "ADD ./example.py  (4.58 KiB)\r\n",
      "ADD ./make.bat  (335 bytes)\r\n",
      "ADD ./make.sh  (364 bytes)\r\n",
      "ADD ./setup.py  (2.28 KiB)\r\n",
      "ADD ./sunamount.md  (12.18 KiB)\r\n",
      "ADD rese/__coconut__.py  (26.10 KiB)\r\n",
      "ADD rese/__init__.py  (0 bytes)\r\n",
      "ADD rese/sunamount.coco  (15.63 KiB)\r\n",
      "ADD rese/sunamount.py  (21.95 KiB)\u001b[39m\r\n",
      "Processing speed was 21.74 MiB/s.\r\n",
      "\u001b[37m/SOS/ \u001b[39mSwitched to new unnamed branch b1\r\n",
      "[\u001b[32mEXIT\u001b[39m]\r\n",
      "\u001b[0m"
     ]
    }
   ],
   "source": [
    "!sos branch --fast"
   ]
  },
  {
   "cell_type": "markdown",
   "metadata": {},
   "source": [
    "A new branch was created, and you have been switched to work on it. Ignore the `--fast` for the moment, it is simply faster if you switch immediately after a commit.\n",
    "\n",
    "Check the branches by typing:"
   ]
  },
  {
   "cell_type": "code",
   "execution_count": 53,
   "metadata": {},
   "outputs": [
    {
     "name": "stdout",
     "output_type": "stream",
     "text": [
      "\u001b[37m/SOS/ \u001b[39mOffline repository status\r\n",
      "Repository root:     /home/ash/Desktop/all/projects/sos/docs/realestate-sunamount\r\n",
      "Underlying VCS root: /home/ash/Desktop/all/projects/sos/docs/realestate-sunamount\r\n",
      "Underlying VCS type: git\r\n",
      "Installation path:   /home/ash/Desktop/all/projects/sos\r\n",
      "Current SOS version: 2019.1210.2731-v1.6.0-88-gaff3ab9\r\n",
      "At creation version: 2019.1210.2731-v1.6.0-88-gaff3ab9\r\n",
      "Metadata format:     2\r\n",
      "Content checking:    \u001b[34msize & timestamp\u001b[39m\r\n",
      "Data compression:    \u001b[34mdeactivated\u001b[39m\r\n",
      "Repository mode:     \u001b[32msimple\u001b[39m\r\n",
      "Number of branches:  2\r\n",
      "\r",
      "                                                                               \r",
      "\u001b[32m✔ File tree is unchanged\u001b[39m\r\n",
      "    b0 'master' @2019-02-10 17:53:39 (\u001b[33mmodified\u001b[39m) with 2 commits (median 7 each), using 0.13 MiB (+1.994% SOS overhead)\r\n",
      "  * b1          @2019-02-10 17:53:59 (\u001b[33mmodified\u001b[39m) with 1 commits (median 14 each), using 0.13 MiB (+1.796% SOS overhead). Last comment: 'Branched from file tree after b0/r01'\r\n",
      "[\u001b[32mEXIT\u001b[39m]\r\n",
      "\u001b[0m"
     ]
    }
   ],
   "source": [
    "!sos status"
   ]
  },
  {
   "cell_type": "markdown",
   "metadata": {},
   "source": [
    "The asterisk `*` shows you the currently active (unnamed) brach.\n",
    "\n",
    "We now make a change in `rese/sunamount.coco` by moving the conditional `import sys` statement from the bottom to the top of the file (use the following code to let the notebook do it for you):"
   ]
  },
  {
   "cell_type": "code",
   "execution_count": 54,
   "metadata": {},
   "outputs": [
    {
     "name": "stdout",
     "output_type": "stream",
     "text": [
      "\n",
      "DIF rese/sunamount.coco  <LF>\n",
      "\u001b[32m+++ 008 |import sys|\u001b[39m\n",
      "\n",
      "\u001b[31m--- 274 |  import sys|\u001b[39m\n",
      "\n",
      "[\u001b[32mEXIT\u001b[39m]\n",
      "\u001b[0m"
     ]
    }
   ],
   "source": [
    "with open(\"rese/sunamount.coco\", \"r\") as fd: lines = fd.read().replace(\"\\r\\n\", \"\\n\").split(\"\\n\")\n",
    "lines = lines[:8] + [\"import sys\"] + [line for line in lines[8:] if line.strip() != \"import sys\"]\n",
    "with open(\"rese/sunamount.coco\", \"w\") as fd: fd.write(\"\\n\".join(lines))\n",
    "!echo\n",
    "!sos diff"
   ]
  },
  {
   "cell_type": "markdown",
   "metadata": {},
   "source": [
    "If you hadn't had SOS installed earlier, SOS will treat the Coconut source file as binary.\n",
    "We will tell SOS to treat `*.coco` files globally as textual files and repeat the `sos diff` command:"
   ]
  },
  {
   "cell_type": "code",
   "execution_count": 55,
   "metadata": {},
   "outputs": [
    {
     "name": "stdout",
     "output_type": "stream",
     "text": [
      "[\u001b[33mEXIT\u001b[39m Value already contained, nothing to do.]\n",
      "\u001b[0m\n",
      "DIF rese/sunamount.coco  <LF>\n",
      "\u001b[32m+++ 008 |import sys|\u001b[39m\n",
      "\n",
      "\u001b[31m--- 274 |  import sys|\u001b[39m\n",
      "\n",
      "[\u001b[32mEXIT\u001b[39m]\n",
      "\u001b[0m"
     ]
    }
   ],
   "source": [
    "!sos config add texttype \"*.coco\" --local\n",
    "!echo\n",
    "!sos diff"
   ]
  },
  {
   "cell_type": "markdown",
   "metadata": {},
   "source": [
    "OK, the import statement has been removed from line 274 and inserted before line 8 (0-based) or inserted after line 8 (1-based).\n",
    "\n",
    "We can now commit the changes we had in mind and go back to our original branch to continue worke there:"
   ]
  },
  {
   "cell_type": "code",
   "execution_count": 56,
   "metadata": {},
   "outputs": [
    {
     "name": "stdout",
     "output_type": "stream",
     "text": [
      "\u001b[33mMOD rese/sunamount.coco\u001b[39m\n",
      "Processing speed was 4.10 MiB/s.\n",
      "\u001b[37m/SOS/ \u001b[39mCreated new revision r01 'Moved import statement' (\u001b[32m+\u001b[39m00/\u001b[31m-\u001b[39m00/\u001b[33m±\u001b[39m01/\u001b[34m\u001b[1m⇌\u001b[0m00) summing 15.81 KiB in 1 files (1.13% SOS overhead)\n",
      "[\u001b[32mEXIT\u001b[39m]\n",
      "\u001b[0m\n",
      "\u001b[37m/SOS/ \u001b[39mOffline commit history of branch None\n",
      "    r0 @2019-02-10 17:53:59 (\u001b[32m+\u001b[39m14/\u001b[31m-\u001b[39m00/\u001b[33m±\u001b[39m00/\u001b[36mT\u001b[39m00) |Branched from file tree after b0/r01|\u001b[35m\u001b[39m\n",
      "  ➙ r1 @2019-02-10 17:54:06 (\u001b[32m+\u001b[39m00/\u001b[31m-\u001b[39m00/\u001b[33m±\u001b[39m01/\u001b[36mT\u001b[39m01) |Moved import statement|\u001b[35m\u001b[39m\n",
      "[\u001b[32mEXIT\u001b[39m]\n",
      "\u001b[0m\n",
      "\u001b[37m/SOS/ \u001b[39mOffline repository status\n",
      "Repository root:     /home/ash/Desktop/all/projects/sos/docs/realestate-sunamount\n",
      "Underlying VCS root: /home/ash/Desktop/all/projects/sos/docs/realestate-sunamount\n",
      "Underlying VCS type: git\n",
      "Installation path:   /home/ash/Desktop/all/projects/sos\n",
      "Current SOS version: 2019.1210.2731-v1.6.0-88-gaff3ab9\n",
      "At creation version: 2019.1210.2731-v1.6.0-88-gaff3ab9\n",
      "Metadata format:     2\n",
      "Content checking:    \u001b[34msize & timestamp\u001b[39m\n",
      "Data compression:    \u001b[34mdeactivated\u001b[39m\n",
      "Repository mode:     \u001b[32msimple\u001b[39m\n",
      "Number of branches:  2\n",
      "\u001b[32m✔ File tree is unchanged\u001b[39m                                             \n",
      "    b0 'master' @2019-02-10 17:53:39 (\u001b[33mmodified\u001b[39m) with 2 commits (median 7 each), using 0.13 MiB (+1.994% SOS overhead)\n",
      "  * b1          @2019-02-10 17:53:59 (\u001b[33mmodified\u001b[39m) with 2 commits (median 7 each), using 0.15 MiB (+1.794% SOS overhead). Last comment: 'Moved import statement'\n",
      "[\u001b[32mEXIT\u001b[39m]\n",
      "\u001b[0m"
     ]
    }
   ],
   "source": [
    "!sos commit \"Moved import statement\"\n",
    "!echo\n",
    "!sos log\n",
    "!echo\n",
    "!sos status"
   ]
  },
  {
   "cell_type": "markdown",
   "metadata": {},
   "source": [
    "Now we switch back to our initial branch:"
   ]
  },
  {
   "cell_type": "code",
   "execution_count": 57,
   "metadata": {},
   "outputs": [
    {
     "name": "stdout",
     "output_type": "stream",
     "text": [
      "\u001b[33mMOD rese/sunamount.coco\u001b[39m\r\n",
      "\u001b[37m/SOS/ \u001b[39mSwitched to branch 'master' b0/r01\r\n",
      "[\u001b[32mEXIT\u001b[39m]\r\n",
      "\u001b[0m"
     ]
    }
   ],
   "source": [
    "!sos switch 0"
   ]
  },
  {
   "cell_type": "markdown",
   "metadata": {},
   "source": [
    "or use:"
   ]
  },
  {
   "cell_type": "code",
   "execution_count": 58,
   "metadata": {},
   "outputs": [
    {
     "name": "stdout",
     "output_type": "stream",
     "text": [
      "No changes to current file tree\r\n",
      "\u001b[37m/SOS/ \u001b[39mSwitched to branch 'master' b0/r01\r\n",
      "[\u001b[32mEXIT\u001b[39m]\r\n",
      "\u001b[0m"
     ]
    }
   ],
   "source": [
    "!sos switch master"
   ]
  },
  {
   "cell_type": "markdown",
   "metadata": {},
   "source": [
    "You can see that the switch modified the source file that we modified back to its original state.\n",
    "We might now decide that we even want to go back to the original project state on the trunk branch.\n",
    "This rollback is also performed by the switch command:"
   ]
  },
  {
   "cell_type": "code",
   "execution_count": 59,
   "metadata": {},
   "outputs": [
    {
     "name": "stdout",
     "output_type": "stream",
     "text": [
      "\u001b[33mMOD ./make.bat\u001b[39m\r\n",
      "\u001b[37m/SOS/ \u001b[39mSwitched to branch 'master' b0/r00\r\n",
      "[\u001b[32mEXIT\u001b[39m]\r\n",
      "\u001b[0m"
     ]
    }
   ],
   "source": [
    "!sos switch /0"
   ]
  },
  {
   "cell_type": "markdown",
   "metadata": {},
   "source": [
    "This will restore the current branch's initial state, which - in case of the first branch - is the state where we went offline from.\n",
    "\n",
    "When you call `sos changes` and `sos status`, you'll see a major difference to other VCS and something stemming from SOS's simple data model:"
   ]
  },
  {
   "cell_type": "code",
   "execution_count": 60,
   "metadata": {},
   "outputs": [
    {
     "name": "stdout",
     "output_type": "stream",
     "text": [
      "\u001b[33mMOD ./make.bat <older than previously committed>\u001b[39m\n",
      "[\u001b[32mEXIT\u001b[39m]\n",
      "\u001b[0m\n",
      "\u001b[37m/SOS/ \u001b[39mOffline repository status\n",
      "Repository root:     /home/ash/Desktop/all/projects/sos/docs/realestate-sunamount\n",
      "Underlying VCS root: /home/ash/Desktop/all/projects/sos/docs/realestate-sunamount\n",
      "Underlying VCS type: git\n",
      "Installation path:   /home/ash/Desktop/all/projects/sos\n",
      "Current SOS version: 2019.1210.2731-v1.6.0-88-gaff3ab9\n",
      "At creation version: 2019.1210.2731-v1.6.0-88-gaff3ab9\n",
      "Metadata format:     2\n",
      "Content checking:    \u001b[34msize & timestamp\u001b[39m\n",
      "Data compression:    \u001b[34mdeactivated\u001b[39m\n",
      "Repository mode:     \u001b[32msimple\u001b[39m\n",
      "Number of branches:  2\n",
      "\u001b[33m✖ File tree has changes\u001b[39m                                              \n",
      "  * b0 'master' @2019-02-10 17:53:39 (\u001b[33mmodified\u001b[39m) with 2 commits (median 7 each), using 0.13 MiB (+1.994% SOS overhead)\n",
      "    b1          @2019-02-10 17:53:59 (\u001b[33mmodified\u001b[39m) with 2 commits (median 7 each), using 0.15 MiB (+1.794% SOS overhead). Last comment: 'Moved import statement'\n",
      "[\u001b[32mEXIT\u001b[39m]\n",
      "\u001b[0m"
     ]
    }
   ],
   "source": [
    "!sos changes\n",
    "!echo\n",
    "!sos status"
   ]
  },
  {
   "cell_type": "markdown",
   "metadata": {},
   "source": [
    "You can see that the `make.bat` file is recognized as modified, also that SOS determined it to be older than a recent commit (by file modification timestamp).\n",
    "The reason for marking the file as modified is that SOS compares the file tree always against the latest revision of the current branch.\n",
    "There is no going back to a previous revision and forgetting about the relative future commits like Git can (by resetting its index).\n",
    "The rationale behind it is that most work is sequential.\n",
    "\n",
    "If we were to make a change now - from the file tree at b0/r0, it would be added as revision 2 of branch 0.\n",
    "\n",
    "Before committing anything now, go ahead and change `rese/sunamount.coco` to import the `logging` module right before the `import time` statement:"
   ]
  },
  {
   "cell_type": "code",
   "execution_count": 61,
   "metadata": {},
   "outputs": [
    {
     "name": "stdout",
     "output_type": "stream",
     "text": [
      "DIF ./make.bat  <LF>\n",
      "\u001b[35mold 0 |@echo off...|\u001b[39m\n",
      "\u001b[36mnow 0 |@echo off|\u001b[39m\n",
      "\n",
      "DIF rese/sunamount.coco  <LF>\n",
      "\u001b[32m+++ 11 |import logging|\u001b[39m\n",
      "\n",
      "[\u001b[32mEXIT\u001b[39m]\n",
      "\u001b[0m"
     ]
    }
   ],
   "source": [
    "with open(\"rese/sunamount.coco\", \"r\") as fd: lines = fd.read().split(\"\\n\")\n",
    "lines = lines[:11] + [\"import logging\"] + lines[11:]\n",
    "with open(\"rese/sunamount.coco\", \"w\") as fd: fd.write(\"\\n\".join(lines))\n",
    "\n",
    "!sos diff"
   ]
  },
  {
   "cell_type": "markdown",
   "metadata": {},
   "source": [
    "The rollback of the make file is marked as a change, and the added import is shown.\n",
    "We continue and commit:"
   ]
  },
  {
   "cell_type": "code",
   "execution_count": 62,
   "metadata": {},
   "outputs": [
    {
     "name": "stdout",
     "output_type": "stream",
     "text": [
      "\u001b[33mMOD ./make.bat <older than previously committed>\n",
      "MOD rese/sunamount.coco\u001b[39m\n",
      "Processing speed was 4.44 MiB/s.\n",
      "\u001b[37m/SOS/ \u001b[39mCreated new revision r02 'Added import statement' (\u001b[32m+\u001b[39m00/\u001b[31m-\u001b[39m00/\u001b[33m±\u001b[39m02/\u001b[34m\u001b[1m⇌\u001b[0m00) summing 16.31 KiB in 2 files (2.12% SOS overhead)\n",
      "[\u001b[32mEXIT\u001b[39m]\n",
      "\u001b[0m\n",
      "\u001b[37m/SOS/ \u001b[39mOffline commit history of branch 'master'\n",
      "    r0 @2019-02-10 17:53:39 (\u001b[32m+\u001b[39m14/\u001b[31m-\u001b[39m00/\u001b[33m±\u001b[39m00/\u001b[36mT\u001b[39m00) |Offline repository created on 2019-02-10 17:53:39|\u001b[35m\u001b[39m\n",
      "    r1 @2019-02-10 17:53:51 (\u001b[32m+\u001b[39m00/\u001b[31m-\u001b[39m00/\u001b[33m±\u001b[39m01/\u001b[36mT\u001b[39m01) ||\u001b[35m\u001b[39m\n",
      "  ➙ r2 @2019-02-10 17:54:27 (\u001b[32m+\u001b[39m00/\u001b[31m-\u001b[39m00/\u001b[33m±\u001b[39m02/\u001b[36mT\u001b[39m02) |Added import statement|\u001b[35m\u001b[39m\n",
      "[\u001b[32mEXIT\u001b[39m]\n",
      "\u001b[0m"
     ]
    }
   ],
   "source": [
    "!sos commit \"Added import statement\"\n",
    "!echo\n",
    "!sos log"
   ]
  },
  {
   "cell_type": "markdown",
   "metadata": {},
   "source": [
    "When we compare the current file tree state with the initial revision, we see that there is no change except for the added `import logging`. We have rolled back the change from revision 0 to 1 and commited that reversal to revision 2:"
   ]
  },
  {
   "cell_type": "code",
   "execution_count": 63,
   "metadata": {},
   "outputs": [
    {
     "name": "stdout",
     "output_type": "stream",
     "text": [
      "DIF rese/sunamount.coco  <LF>\r\n",
      "\u001b[32m+++ 11 |import logging|\u001b[39m\r\n",
      "\r\n",
      "[\u001b[32mEXIT\u001b[39m]\r\n",
      "\u001b[0m"
     ]
    }
   ],
   "source": [
    "!sos diff /0"
   ]
  },
  {
   "cell_type": "markdown",
   "metadata": {},
   "source": [
    "## Merging ##\n",
    "Ok, we covered branching and rollback.\n",
    "Now we go to the royal discipline - merging changes from other branches or revisions into the file tree.\n",
    "\n",
    "If you want to compare and replay changes from another branch into the current file tree, you would first check what the differences are:"
   ]
  },
  {
   "cell_type": "code",
   "execution_count": 64,
   "metadata": {},
   "outputs": [
    {
     "name": "stdout",
     "output_type": "stream",
     "text": [
      "DIF ./make.bat  <LF>\n",
      "\u001b[35mold 0 |@echo off...|\u001b[39m\n",
      "\u001b[36mnow 0 |@echo off|\u001b[39m\n",
      "\n",
      "DIF rese/sunamount.coco  <LF>\n",
      "\u001b[31m--- 008 |import sys|\u001b[39m\n",
      "\n",
      "\u001b[32m+++ 012 |import logging|\u001b[39m\n",
      "\n",
      "\u001b[32m+++ 275 |  import sys|\u001b[39m\n",
      "\n",
      "[\u001b[32mEXIT\u001b[39m]\n",
      "\u001b[0m"
     ]
    }
   ],
   "source": [
    "!sos diff 1"
   ]
  },
  {
   "cell_type": "markdown",
   "metadata": {},
   "source": [
    "Then we proceed to integrate everything differeing in branch 1 into our current master branch (branch 0):"
   ]
  },
  {
   "cell_type": "code",
   "execution_count": 65,
   "metadata": {},
   "outputs": [
    {
     "name": "stdout",
     "output_type": "stream",
     "text": [
      "Modifications:\n",
      "\u001b[36mMRG ./make.bat\u001b[39m\n",
      "\u001b[36mMRG rese/sunamount.coco\u001b[39m\n",
      "\u001b[37m/SOS/ \u001b[39mIntegrated changes from 'b1/r01' into file tree\n",
      "[\u001b[32mEXIT\u001b[39m]\n",
      "\u001b[0m\n",
      "DIF ./make.bat  <LF>\n",
      "\u001b[35mold 0 |@echo off|\u001b[39m\n",
      "\u001b[36mnow 0 |@echo off...|\u001b[39m\n",
      "\n",
      "DIF rese/sunamount.coco  <LF>\n",
      "\u001b[32m+++ 008 |import sys|\u001b[39m\n",
      "\n",
      "\u001b[31m--- 012 |import logging|\u001b[39m\n",
      "\n",
      "\u001b[31m--- 275 |  import sys|\u001b[39m\n",
      "\n",
      "[\u001b[32mEXIT\u001b[39m]\n",
      "\u001b[0m"
     ]
    }
   ],
   "source": [
    "!sos update 1\n",
    "!echo\n",
    "!sos diff"
   ]
  },
  {
   "cell_type": "markdown",
   "metadata": {},
   "source": [
    "OK, let's review that. Here, `sos upgrade` does nothing different than what a `sos switch` would do, but doesn't switch the current branch - everything is just replayed on the file tree.\n",
    "This example is probably not very useful, since both branches look now exactly the same.\n",
    "\n",
    "These changes have not been committed from the file system to the repository, but we can confirm that we have now the same state as branch 1:"
   ]
  },
  {
   "cell_type": "code",
   "execution_count": 66,
   "metadata": {},
   "outputs": [
    {
     "name": "stdout",
     "output_type": "stream",
     "text": [
      "DIF ./make.bat <timestamp or newline>  <LF>\n",
      "DIF rese/sunamount.coco <timestamp or newline>  <LF>\n",
      "[\u001b[32mEXIT\u001b[39m]\n",
      "\u001b[0m"
     ]
    }
   ],
   "source": [
    "!sos diff 1/"
   ]
  },
  {
   "cell_type": "markdown",
   "metadata": {},
   "source": [
    "As you can see, the files do not differ, except for the timestamps (in this case).\n",
    "\n",
    "To make it worthwhile, you might want to consult the documentation for the `sos update` command:"
   ]
  },
  {
   "cell_type": "code",
   "execution_count": 67,
   "metadata": {},
   "outputs": [
    {
     "name": "stdout",
     "output_type": "stream",
     "text": [
      "/SOS/ Subversion Offline Solution\r\n",
      "\r\n",
      "Working with files:\r\n",
      "  update [<branch>][/<revision>]  Integrate work from another branch into the file tree without switching the branch\r\n",
      "                                  Similarly to switch, this command updates the current file tree to the state of another revision, usually from another branch.\r\n",
      "                                  In addition, it allows merging differing contents interactively or by rules specified through command-line switches.\r\n",
      "                                  Default operation for files, lines and characters is add and remove (recreate other branch in file tree)\r\n",
      "\r\n",
      "  Arguments:\r\n",
      "    [<branch>][/<revision>]  Branch and/or revision\r\n",
      "\r\n",
      "  Options:\r\n",
      "    --add                                                                Only add new files (won't remove)\r\n",
      "    --add-lines                                                          Only add inserted lines\r\n",
      "    --ask                                                                Ask how to proceed with modified files\r\n",
      "    --ask-lines                                                          Ask how to proceed with modified lines\r\n",
      "    --eol                                                                Use EOL style from the integrated file instead. Default: EOL style of current file\r\n",
      "    --except-remote[s][=]<file system path>[,<file sytem path 2>[,...]]  Don't operate on specified remote targets\r\n",
      "    --no-remote[s]                                                       Do not operate on any remote targets\r\n",
      "    --only-remote[s][=]<file system path>[,<file sytem path 2>[,...]]    Only operate on specified remote targets (vs. all configured during 'offline')\r\n",
      "    --rm                                                                 Only remove vanished files (won't add)\r\n",
      "    --rm-lines                                                           Only remove deleted lines\r\n",
      "\r\n",
      "  Common options:\r\n",
      "    --add                                                                Only add new files (won't remove)\r\n",
      "    --add-lines                                                          Only add inserted lines\r\n",
      "    --ask                                                                Ask how to proceed with modified files\r\n",
      "    --ask-lines                                                          Ask how to proceed with modified lines\r\n",
      "    --eol                                                                Use EOL style from the integrated file instead. Default: EOL style of current file\r\n",
      "    --except-remote[s][=]<file system path>[,<file sytem path 2>[,...]]  Don't operate on specified remote targets\r\n",
      "    --no-remote[s]                                                       Do not operate on any remote targets\r\n",
      "    --only-remote[s][=]<file system path>[,<file sytem path 2>[,...]]    Only operate on specified remote targets (vs. all configured during 'offline')\r\n",
      "    --rm                                                                 Only remove vanished files (won't add)\r\n",
      "    --rm-lines                                                           Only remove deleted lines\r\n",
      "\u001b[0m"
     ]
    }
   ],
   "source": [
    "!sos help update"
   ]
  },
  {
   "cell_type": "markdown",
   "metadata": {},
   "source": [
    "OK, we want to try the update command once more, but this time in a more useful and refined manner.\n",
    "\n",
    "To do so, let's go back to where we were before:"
   ]
  },
  {
   "cell_type": "code",
   "execution_count": 68,
   "metadata": {},
   "outputs": [
    {
     "name": "stdout",
     "output_type": "stream",
     "text": [
      "\u001b[33mMOD ./make.bat\r\n",
      "MOD rese/sunamount.coco\u001b[39m\r\n",
      "[\u001b[33mEXIT\u001b[39m File tree contains changes. Use --force to proceed.]\r\n",
      "\u001b[0m"
     ]
    }
   ],
   "source": [
    "!sos switch trunk"
   ]
  },
  {
   "cell_type": "markdown",
   "metadata": {},
   "source": [
    "OK; SOS didn't let us switch as there are local modifications. In Git you would have to stash or remove the files first."
   ]
  },
  {
   "cell_type": "code",
   "execution_count": 69,
   "metadata": {},
   "outputs": [
    {
     "name": "stdout",
     "output_type": "stream",
     "text": [
      "\u001b[33mMOD ./make.bat\u001b[39m\r\n",
      "\u001b[33mMOD rese/sunamount.coco\u001b[39m\r\n",
      "\u001b[37m/SOS/ \u001b[39mSwitched to branch 'master' b0/r02\r\n",
      "[\u001b[32mEXIT\u001b[39m]\r\n",
      "\u001b[0m"
     ]
    }
   ],
   "source": [
    "!sos switch trunk --force"
   ]
  },
  {
   "cell_type": "code",
   "execution_count": 70,
   "metadata": {},
   "outputs": [
    {
     "name": "stdout",
     "output_type": "stream",
     "text": [
      "DIF ./make.bat  <LF>\n",
      "\u001b[35mold 0 |@echo off...|\u001b[39m\n",
      "\u001b[36mnow 0 |@echo off|\u001b[39m\n",
      "\n",
      "DIF rese/sunamount.coco  <LF>\n",
      "\u001b[31m--- 008 |import sys|\u001b[39m\n",
      "\n",
      "\u001b[32m+++ 012 |import logging|\u001b[39m\n",
      "\n",
      "\u001b[32m+++ 275 |  import sys|\u001b[39m\n",
      "\n",
      "[\u001b[32mEXIT\u001b[39m]\n",
      "\u001b[0m"
     ]
    }
   ],
   "source": [
    "!sos diff 1/"
   ]
  },
  {
   "cell_type": "markdown",
   "metadata": {},
   "source": [
    "This time we retry the `sos update` command in combination with file patterns like `--only code/*.py` and integrate the changes from branch 1 step by step for each file or file pattern separately:"
   ]
  },
  {
   "cell_type": "code",
   "execution_count": 74,
   "metadata": {},
   "outputs": [
    {
     "name": "stdout",
     "output_type": "stream",
     "text": [
      "Modifications:\r\n",
      "\u001b[36mMRG ./make.bat\u001b[39m\r\n",
      "\u001b[37m/SOS/ \u001b[39mIntegrated changes from 'b1/r01' into file tree\r\n",
      "[\u001b[32mEXIT\u001b[39m]\r\n",
      "\u001b[0m"
     ]
    }
   ],
   "source": [
    "!sos update 1/ --only ./make.bat --ask-lines"
   ]
  },
  {
   "cell_type": "code",
   "execution_count": 73,
   "metadata": {},
   "outputs": [
    {
     "name": "stdout",
     "output_type": "stream",
     "text": [
      "DIF ./make.bat <timestamp or newline>  <LF>\n",
      "DIF rese/sunamount.coco  <LF>\n",
      "\u001b[31m--- 008 |import sys|\u001b[39m\n",
      "\n",
      "\u001b[32m+++ 012 |import logging|\u001b[39m\n",
      "\n",
      "\u001b[32m+++ 275 |  import sys|\u001b[39m\n",
      "\n",
      "[\u001b[32mEXIT\u001b[39m]\n",
      "\u001b[0m"
     ]
    }
   ],
   "source": [
    "!sos diff 1"
   ]
  },
  {
   "cell_type": "code",
   "execution_count": null,
   "metadata": {},
   "outputs": [],
   "source": []
  }
 ],
 "metadata": {
  "kernelspec": {
   "display_name": "Python 3",
   "language": "python",
   "name": "python3"
  },
  "language_info": {
   "codemirror_mode": {
    "name": "ipython",
    "version": 3
   },
   "file_extension": ".py",
   "mimetype": "text/x-python",
   "name": "python",
   "nbconvert_exporter": "python",
   "pygments_lexer": "ipython3",
   "version": "3.4.6"
  }
 },
 "nbformat": 4,
 "nbformat_minor": 2
}
